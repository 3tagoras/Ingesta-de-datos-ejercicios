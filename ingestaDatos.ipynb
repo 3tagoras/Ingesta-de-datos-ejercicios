{
 "cells": [
  {
   "cell_type": "markdown",
   "id": "e2619a81",
   "metadata": {},
   "source": [
    "# Descargando datos"
   ]
  },
  {
   "cell_type": "markdown",
   "id": "289b8871",
   "metadata": {},
   "source": [
    "## Ejercicio 1\n",
    "Utiliza los archivos json descargados con el detalle a nivel estatal, y genera unos 3 DataFrame con información sobre personas desaparecidas dependiendo de diferentes características."
   ]
  },
  {
   "cell_type": "markdown",
   "id": "51af0da8",
   "metadata": {},
   "source": [
    "## Ejercicio 2\n",
    "Entender la estructura del archivo xml de poetas, hacer un query de otro tema que consideren interesante y generar un DataFrame con la información más importante. No olvides de comentar tu código y explicar la estructura del archivo xml"
   ]
  },
  {
   "cell_type": "markdown",
   "id": "6675a9ce",
   "metadata": {},
   "source": [
    "# Usando la API para obtener datos sobre personas desaparecidas del RNPDNO"
   ]
  },
  {
   "cell_type": "markdown",
   "id": "2dafedb3",
   "metadata": {},
   "source": [
    "## Ejercicio 1\n",
    "Probar con diferentes consultas y tratar de inferir los valores que pueden tomar (o buscarlas en la documentación de la API) las diferentes variables que pueden servir para encontrar búsquedas más específicas.\n",
    "\n",
    "Por ejemplo, ¿Como podríamos consultar las estadísticas sobre mujeres desaparecidas en el municipio de Cajeme?"
   ]
  },
  {
   "cell_type": "markdown",
   "id": "70b38e12",
   "metadata": {},
   "source": [
    "## Ejercicio 2\n",
    "¿Como podemos sacar lo que pasa en todo el estado, por municipios y por colonias? Intentalo."
   ]
  },
  {
   "cell_type": "markdown",
   "id": "b15878fc",
   "metadata": {},
   "source": [
    "## Ejercicio 3\n",
    "¿Se puede hacer por municipio? ¿En forma programática? ¿Para algun caso especial? Intentalo"
   ]
  },
  {
   "cell_type": "markdown",
   "id": "a096d135",
   "metadata": {},
   "source": [
    "## Ejercicio 4\n",
    "Extrae alguna información del conjunto de tados que pienses que es relevante, y explica porqué."
   ]
  }
 ],
 "metadata": {
  "language_info": {
   "name": "python"
  }
 },
 "nbformat": 4,
 "nbformat_minor": 5
}
